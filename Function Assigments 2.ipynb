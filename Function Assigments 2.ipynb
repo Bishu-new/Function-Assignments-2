{
 "cells": [
  {
   "cell_type": "markdown",
   "id": "63fb00a0-53bd-4d1d-8f75-e434df931af7",
   "metadata": {},
   "source": [
    "Ans 1 "
   ]
  },
  {
   "cell_type": "code",
   "execution_count": 7,
   "id": "99168fc1-1151-4ab8-8ef1-9c3d5cb959f7",
   "metadata": {},
   "outputs": [],
   "source": [
    "##sorting the list using lamdba function\n",
    "my_list = [('Sachin Tendulkar', 34357), ('Ricky Ponting', 27483), ('Jack Kallis', 25534), ('Virat Kohli', 24936)]"
   ]
  },
  {
   "cell_type": "code",
   "execution_count": 4,
   "id": "b83cae16-2306-497b-af87-1814d42962b0",
   "metadata": {},
   "outputs": [],
   "source": [
    "Sort_list = sorted(my_list, key = lambda x : x[1])"
   ]
  },
  {
   "cell_type": "code",
   "execution_count": 6,
   "id": "ac9cf257-7fb6-4a5e-aed2-fc3c2710ff46",
   "metadata": {},
   "outputs": [
    {
     "data": {
      "text/plain": [
       "[('Virat Kohli', 24936),\n",
       " ('Jack Kallis', 25534),\n",
       " ('Ricky Ponting', 27483),\n",
       " ('Sachin Tendulkar', 34357)]"
      ]
     },
     "execution_count": 6,
     "metadata": {},
     "output_type": "execute_result"
    }
   ],
   "source": [
    "Sort_list"
   ]
  },
  {
   "cell_type": "markdown",
   "id": "1e5421f9-56c4-4b38-9c2d-37513b171ed4",
   "metadata": {},
   "source": [
    "Ans 2  Finding the square using Lambda and map function"
   ]
  },
  {
   "cell_type": "code",
   "execution_count": 8,
   "id": "0d4b1fc7-4665-4c06-bf3f-18e3cfbb1bfb",
   "metadata": {},
   "outputs": [],
   "source": [
    "l = [1, 2, 3, 4, 5, 6, 7, 8, 9, 10]"
   ]
  },
  {
   "cell_type": "code",
   "execution_count": 9,
   "id": "eed66f54-1fc6-42d6-9311-bd3e0ebbdc42",
   "metadata": {},
   "outputs": [
    {
     "data": {
      "text/plain": [
       "[1, 4, 9, 16, 25, 36, 49, 64, 81, 100]"
      ]
     },
     "execution_count": 9,
     "metadata": {},
     "output_type": "execute_result"
    }
   ],
   "source": [
    "list(map(lambda x : x**2 , l))"
   ]
  },
  {
   "cell_type": "markdown",
   "id": "f0054e29-3d58-470c-a8b4-4de85ea0b196",
   "metadata": {},
   "source": [
    "Ans 3  Write a python program to convert the given list of integers into a tuple of strings. Use map and\n",
    "lambda functions"
   ]
  },
  {
   "cell_type": "code",
   "execution_count": 2,
   "id": "a2a8ef94-12b7-4a16-994a-1660e08b5417",
   "metadata": {},
   "outputs": [],
   "source": [
    "my_list = [1, 2, 3, 4, 5,6,7,8,9,10]\n",
    "my_tuple = tuple(map(lambda x: str(x), my_list))\n"
   ]
  },
  {
   "cell_type": "code",
   "execution_count": 4,
   "id": "50f4ae7b-2d64-4fc8-b217-8728dcd902e4",
   "metadata": {},
   "outputs": [
    {
     "data": {
      "text/plain": [
       "('1', '2', '3', '4', '5', '6', '7', '8', '9', '10')"
      ]
     },
     "execution_count": 4,
     "metadata": {},
     "output_type": "execute_result"
    }
   ],
   "source": [
    "my_tuple"
   ]
  },
  {
   "cell_type": "markdown",
   "id": "e90f8f52-b7b8-4b7e-9651-7e0682604ce1",
   "metadata": {},
   "source": [
    "Ans 4  Write a python program using reduce function to compute the product of a list containing numbers\n",
    "from 1 to 25."
   ]
  },
  {
   "cell_type": "code",
   "execution_count": 7,
   "id": "5cd8c1e0-6c1f-4bf7-a8aa-78774efcdb8a",
   "metadata": {},
   "outputs": [],
   "source": [
    "from functools import  reduce"
   ]
  },
  {
   "cell_type": "code",
   "execution_count": 8,
   "id": "ca0bee58-a40c-4d84-8550-b44322f220cd",
   "metadata": {},
   "outputs": [],
   "source": [
    "my_list = list(range(1,25))"
   ]
  },
  {
   "cell_type": "code",
   "execution_count": 10,
   "id": "44738b93-7611-4cad-bcc6-cfa9dcbaded9",
   "metadata": {},
   "outputs": [
    {
     "data": {
      "text/plain": [
       "620448401733239439360000"
      ]
     },
     "execution_count": 10,
     "metadata": {},
     "output_type": "execute_result"
    }
   ],
   "source": [
    "reduce(lambda x,y : x*y, my_list)"
   ]
  },
  {
   "cell_type": "markdown",
   "id": "8c4aa353-5f4a-4a34-8237-c016b5d29455",
   "metadata": {},
   "source": [
    "Ans 5 Write a python program to filter the numbers in a given list that are divisible by 2 and 3 using the\n",
    "filter function."
   ]
  },
  {
   "cell_type": "code",
   "execution_count": 11,
   "id": "28c0bf74-d583-48bf-9333-e8d8275279f1",
   "metadata": {},
   "outputs": [],
   "source": [
    "my_list = [2, 3, 6, 9, 27, 60, 90, 120, 55, 46]"
   ]
  },
  {
   "cell_type": "code",
   "execution_count": 13,
   "id": "2a5794e1-0a44-4419-8867-3e110b340903",
   "metadata": {},
   "outputs": [
    {
     "data": {
      "text/plain": [
       "[2, 6, 60, 90, 120, 46]"
      ]
     },
     "execution_count": 13,
     "metadata": {},
     "output_type": "execute_result"
    }
   ],
   "source": [
    "list(filter(lambda x : x%2 == 0 , my_list))"
   ]
  },
  {
   "cell_type": "markdown",
   "id": "7fd94927-e9d8-4f4d-b817-c744fbf90972",
   "metadata": {},
   "source": [
    "Ans 6 : Write a python program to find palindromes in the given list of strings using lambda and filter\n",
    "function."
   ]
  },
  {
   "cell_type": "code",
   "execution_count": 14,
   "id": "428a4cb0-617a-48f4-9739-31c5fbf36e4f",
   "metadata": {},
   "outputs": [],
   "source": [
    "my_list = ['python', 'php', 'aba', 'radar', 'level']"
   ]
  },
  {
   "cell_type": "code",
   "execution_count": 16,
   "id": "3871b410-7659-4165-9bd0-3e6221ae3f18",
   "metadata": {},
   "outputs": [
    {
     "data": {
      "text/plain": [
       "['php', 'aba', 'radar', 'level']"
      ]
     },
     "execution_count": 16,
     "metadata": {},
     "output_type": "execute_result"
    }
   ],
   "source": [
    "## finding palindromes using the lambda and filter function\n",
    "list(filter(lambda x : x == x[::-1], my_list))"
   ]
  },
  {
   "cell_type": "code",
   "execution_count": null,
   "id": "433d30fa-d73e-41cb-9d6f-f2aa740094ff",
   "metadata": {},
   "outputs": [],
   "source": []
  }
 ],
 "metadata": {
  "kernelspec": {
   "display_name": "Python 3 (ipykernel)",
   "language": "python",
   "name": "python3"
  },
  "language_info": {
   "codemirror_mode": {
    "name": "ipython",
    "version": 3
   },
   "file_extension": ".py",
   "mimetype": "text/x-python",
   "name": "python",
   "nbconvert_exporter": "python",
   "pygments_lexer": "ipython3",
   "version": "3.10.8"
  }
 },
 "nbformat": 4,
 "nbformat_minor": 5
}
